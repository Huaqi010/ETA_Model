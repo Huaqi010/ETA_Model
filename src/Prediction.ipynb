{
 "cells": [
  {
   "cell_type": "code",
   "execution_count": 25,
   "metadata": {},
   "outputs": [],
   "source": [
    "import numpy as np\n",
    "import pandas as pd\n",
    "import datetime\n",
    "import matplotlib.pyplot as plt\n",
    "import seaborn as sns\n",
    "from sklearn.compose import ColumnTransformer\n",
    "from sklearn.experimental import enable_iterative_imputer\n",
    "from sklearn.impute import SimpleImputer\n",
    "from sklearn.impute import IterativeImputer\n",
    "from sklearn.ensemble import RandomForestRegressor\n",
    "from sklearn.pipeline import Pipeline\n",
    "from sklearn.preprocessing import OneHotEncoder\n",
    "from sklearn.preprocessing import StandardScaler\n",
    "import pickle\n",
    "import os\n",
    "import h5py"
   ]
  },
  {
   "cell_type": "code",
   "execution_count": 52,
   "metadata": {},
   "outputs": [],
   "source": [
    "data = pd.read_csv(\"data/predict_data.csv\")"
   ]
  },
  {
   "cell_type": "code",
   "execution_count": 40,
   "metadata": {},
   "outputs": [
    {
     "data": {
      "text/html": [
       "<div>\n",
       "<style scoped>\n",
       "    .dataframe tbody tr th:only-of-type {\n",
       "        vertical-align: middle;\n",
       "    }\n",
       "\n",
       "    .dataframe tbody tr th {\n",
       "        vertical-align: top;\n",
       "    }\n",
       "\n",
       "    .dataframe thead th {\n",
       "        text-align: right;\n",
       "    }\n",
       "</style>\n",
       "<table border=\"1\" class=\"dataframe\">\n",
       "  <thead>\n",
       "    <tr style=\"text-align: right;\">\n",
       "      <th></th>\n",
       "      <th>market_id</th>\n",
       "      <th>created_at</th>\n",
       "      <th>store_id</th>\n",
       "      <th>store_primary_category</th>\n",
       "      <th>order_protocol</th>\n",
       "      <th>total_items</th>\n",
       "      <th>subtotal</th>\n",
       "      <th>num_distinct_items</th>\n",
       "      <th>min_item_price</th>\n",
       "      <th>max_item_price</th>\n",
       "      <th>total_onshift_dashers</th>\n",
       "      <th>total_busy_dashers</th>\n",
       "      <th>total_outstanding_orders</th>\n",
       "      <th>estimated_order_place_duration</th>\n",
       "      <th>estimated_store_to_consumer_driving_duration</th>\n",
       "      <th>delivery_id</th>\n",
       "      <th>platform</th>\n",
       "      <th>start_hour</th>\n",
       "      <th>start_weekday</th>\n",
       "      <th>start_month</th>\n",
       "    </tr>\n",
       "  </thead>\n",
       "  <tbody>\n",
       "    <tr>\n",
       "      <th>27577</th>\n",
       "      <td>1.0</td>\n",
       "      <td>2015-02-18 14:50:28</td>\n",
       "      <td>266</td>\n",
       "      <td>breakfast</td>\n",
       "      <td>1.0</td>\n",
       "      <td>3</td>\n",
       "      <td>2500</td>\n",
       "      <td>3</td>\n",
       "      <td>350</td>\n",
       "      <td>1300</td>\n",
       "      <td>1.0</td>\n",
       "      <td>0.0</td>\n",
       "      <td>0.0</td>\n",
       "      <td>446</td>\n",
       "      <td>425.0</td>\n",
       "      <td>99834</td>\n",
       "      <td>ios</td>\n",
       "      <td>14</td>\n",
       "      <td>2</td>\n",
       "      <td>2</td>\n",
       "    </tr>\n",
       "    <tr>\n",
       "      <th>50927</th>\n",
       "      <td>3.0</td>\n",
       "      <td>2015-02-18 14:59:26</td>\n",
       "      <td>6463</td>\n",
       "      <td>dessert</td>\n",
       "      <td>4.0</td>\n",
       "      <td>2</td>\n",
       "      <td>1198</td>\n",
       "      <td>1</td>\n",
       "      <td>599</td>\n",
       "      <td>599</td>\n",
       "      <td>NaN</td>\n",
       "      <td>NaN</td>\n",
       "      <td>NaN</td>\n",
       "      <td>251</td>\n",
       "      <td>877.0</td>\n",
       "      <td>240577</td>\n",
       "      <td>ios</td>\n",
       "      <td>14</td>\n",
       "      <td>2</td>\n",
       "      <td>2</td>\n",
       "    </tr>\n",
       "    <tr>\n",
       "      <th>47372</th>\n",
       "      <td>1.0</td>\n",
       "      <td>2015-02-18 15:04:22</td>\n",
       "      <td>6049</td>\n",
       "      <td>french</td>\n",
       "      <td>1.0</td>\n",
       "      <td>3</td>\n",
       "      <td>1575</td>\n",
       "      <td>2</td>\n",
       "      <td>325</td>\n",
       "      <td>625</td>\n",
       "      <td>0.0</td>\n",
       "      <td>0.0</td>\n",
       "      <td>0.0</td>\n",
       "      <td>446</td>\n",
       "      <td>350.0</td>\n",
       "      <td>34717</td>\n",
       "      <td>android</td>\n",
       "      <td>15</td>\n",
       "      <td>2</td>\n",
       "      <td>2</td>\n",
       "    </tr>\n",
       "    <tr>\n",
       "      <th>22766</th>\n",
       "      <td>1.0</td>\n",
       "      <td>2015-02-18 15:13:50</td>\n",
       "      <td>4355</td>\n",
       "      <td>fast</td>\n",
       "      <td>4.0</td>\n",
       "      <td>3</td>\n",
       "      <td>900</td>\n",
       "      <td>1</td>\n",
       "      <td>300</td>\n",
       "      <td>300</td>\n",
       "      <td>1.0</td>\n",
       "      <td>0.0</td>\n",
       "      <td>0.0</td>\n",
       "      <td>251</td>\n",
       "      <td>299.0</td>\n",
       "      <td>228294</td>\n",
       "      <td>ios</td>\n",
       "      <td>15</td>\n",
       "      <td>2</td>\n",
       "      <td>2</td>\n",
       "    </tr>\n",
       "    <tr>\n",
       "      <th>1385</th>\n",
       "      <td>1.0</td>\n",
       "      <td>2015-02-18 15:22:38</td>\n",
       "      <td>2549</td>\n",
       "      <td>sandwich</td>\n",
       "      <td>1.0</td>\n",
       "      <td>2</td>\n",
       "      <td>1870</td>\n",
       "      <td>2</td>\n",
       "      <td>350</td>\n",
       "      <td>1395</td>\n",
       "      <td>3.0</td>\n",
       "      <td>0.0</td>\n",
       "      <td>0.0</td>\n",
       "      <td>446</td>\n",
       "      <td>1022.0</td>\n",
       "      <td>104625</td>\n",
       "      <td>ios</td>\n",
       "      <td>15</td>\n",
       "      <td>2</td>\n",
       "      <td>2</td>\n",
       "    </tr>\n",
       "  </tbody>\n",
       "</table>\n",
       "</div>"
      ],
      "text/plain": [
       "       market_id          created_at  store_id store_primary_category  \\\n",
       "27577        1.0 2015-02-18 14:50:28       266              breakfast   \n",
       "50927        3.0 2015-02-18 14:59:26      6463                dessert   \n",
       "47372        1.0 2015-02-18 15:04:22      6049                 french   \n",
       "22766        1.0 2015-02-18 15:13:50      4355                   fast   \n",
       "1385         1.0 2015-02-18 15:22:38      2549               sandwich   \n",
       "\n",
       "       order_protocol  total_items  subtotal  num_distinct_items  \\\n",
       "27577             1.0            3      2500                   3   \n",
       "50927             4.0            2      1198                   1   \n",
       "47372             1.0            3      1575                   2   \n",
       "22766             4.0            3       900                   1   \n",
       "1385              1.0            2      1870                   2   \n",
       "\n",
       "       min_item_price  max_item_price  total_onshift_dashers  \\\n",
       "27577             350            1300                    1.0   \n",
       "50927             599             599                    NaN   \n",
       "47372             325             625                    0.0   \n",
       "22766             300             300                    1.0   \n",
       "1385              350            1395                    3.0   \n",
       "\n",
       "       total_busy_dashers  total_outstanding_orders  \\\n",
       "27577                 0.0                       0.0   \n",
       "50927                 NaN                       NaN   \n",
       "47372                 0.0                       0.0   \n",
       "22766                 0.0                       0.0   \n",
       "1385                  0.0                       0.0   \n",
       "\n",
       "       estimated_order_place_duration  \\\n",
       "27577                             446   \n",
       "50927                             251   \n",
       "47372                             446   \n",
       "22766                             251   \n",
       "1385                              446   \n",
       "\n",
       "       estimated_store_to_consumer_driving_duration  delivery_id platform  \\\n",
       "27577                                         425.0        99834      ios   \n",
       "50927                                         877.0       240577      ios   \n",
       "47372                                         350.0        34717  android   \n",
       "22766                                         299.0       228294      ios   \n",
       "1385                                         1022.0       104625      ios   \n",
       "\n",
       "       start_hour  start_weekday  start_month  \n",
       "27577          14              2            2  \n",
       "50927          14              2            2  \n",
       "47372          15              2            2  \n",
       "22766          15              2            2  \n",
       "1385           15              2            2  "
      ]
     },
     "execution_count": 40,
     "metadata": {},
     "output_type": "execute_result"
    }
   ],
   "source": [
    "# convert time features into datetime type\n",
    "# and order by the order created time\n",
    "df = data\n",
    "df['created_at']= pd.to_datetime(df[\"created_at\"]) \n",
    "# df['actual_delivery_time']= pd.to_datetime(data[\"actual_delivery_time\"]) \n",
    "df = df.sort_values(by=['created_at'],ascending=True)\n",
    "\n",
    "# convert creat_at to hour, weekday, and month features\n",
    "df['start_hour'] = df['created_at'].dt.hour\n",
    "df['start_weekday'] = df['created_at'].dt.weekday\n",
    "df['start_month'] = df['created_at'].dt.month\n",
    "\n",
    "df.head()"
   ]
  },
  {
   "cell_type": "code",
   "execution_count": 8,
   "metadata": {},
   "outputs": [],
   "source": [
    "df['store_id_showup'] = None\n",
    "# df['store_id'].fillna(value=0, inplace=True)\n",
    "for i in df['store_id'].value_counts().index:\n",
    "    cnt = df['store_id'].value_counts()[i]\n",
    "    idxs = df[df['store_id']==i].index\n",
    "    df.loc[idxs,['store_id_showup']] = cnt"
   ]
  },
  {
   "cell_type": "code",
   "execution_count": 9,
   "metadata": {},
   "outputs": [],
   "source": [
    "df['store_id_showup'] = pd.cut(df['store_id_showup'], bins=[0,100,300,500,1000], \n",
    "                               labels=[\"0-100\", \"100-300\", \"300-500\", \"500-1000\"])"
   ]
  },
  {
   "cell_type": "code",
   "execution_count": 10,
   "metadata": {},
   "outputs": [],
   "source": [
    "df.drop(['store_id'],axis = 1,inplace = True)"
   ]
  },
  {
   "cell_type": "code",
   "execution_count": 11,
   "metadata": {},
   "outputs": [],
   "source": [
    "df.drop(['created_at','platform','delivery_id'],axis = 1,inplace = True)"
   ]
  },
  {
   "cell_type": "code",
   "execution_count": 15,
   "metadata": {},
   "outputs": [],
   "source": [
    "df['market_id'] = df['market_id'].astype('str')\n",
    "df['store_primary_category'] = df['store_primary_category'].astype('str')\n",
    "df['order_protocol'] = df['order_protocol'].astype('str')"
   ]
  },
  {
   "cell_type": "code",
   "execution_count": 50,
   "metadata": {},
   "outputs": [],
   "source": [
    "with open(\"model/preprocessor.pkl\",'rb') as infile:\n",
    "    loaded_pre = pickle.load(infile)\n",
    "preprocessor = loaded_pre['model']"
   ]
  },
  {
   "cell_type": "code",
   "execution_count": 23,
   "metadata": {},
   "outputs": [
    {
     "name": "stdout",
     "output_type": "stream",
     "text": [
      "(54778, 130)\n"
     ]
    }
   ],
   "source": [
    "X_prep = preprocessor.transform(df)\n",
    "\n",
    "feature_names = list(preprocessor.named_transformers_['cat'][1].get_feature_names(cat_ftrs)) + \\\n",
    "                preprocessor.transformers_[1][-1]\n",
    "\n",
    "df_pre = pd.DataFrame(data=X_prep,columns=feature_names)\n",
    "print(df_pre.shape)"
   ]
  },
  {
   "cell_type": "code",
   "execution_count": 26,
   "metadata": {},
   "outputs": [],
   "source": [
    "h5f = h5py.File('data/pred_df.H5', \"w\")\n",
    "h5f.create_dataset('pred_df', data=df_pre, compression=\"gzip\", compression_opts=9)\n",
    "h5f.close()"
   ]
  },
  {
   "cell_type": "markdown",
   "metadata": {},
   "source": [
    "## Read Predictions and Output Result"
   ]
  },
  {
   "cell_type": "code",
   "execution_count": 35,
   "metadata": {},
   "outputs": [],
   "source": [
    "with open(\"data/predictions.txt\", \"rb\") as fp:   # Unpickling\n",
    "    pred = pickle.load(fp)[0]"
   ]
  },
  {
   "cell_type": "code",
   "execution_count": 41,
   "metadata": {},
   "outputs": [],
   "source": [
    "data['prediction'] = pred"
   ]
  },
  {
   "cell_type": "code",
   "execution_count": 47,
   "metadata": {},
   "outputs": [
    {
     "data": {
      "text/html": [
       "<div>\n",
       "<style scoped>\n",
       "    .dataframe tbody tr th:only-of-type {\n",
       "        vertical-align: middle;\n",
       "    }\n",
       "\n",
       "    .dataframe tbody tr th {\n",
       "        vertical-align: top;\n",
       "    }\n",
       "\n",
       "    .dataframe thead th {\n",
       "        text-align: right;\n",
       "    }\n",
       "</style>\n",
       "<table border=\"1\" class=\"dataframe\">\n",
       "  <thead>\n",
       "    <tr style=\"text-align: right;\">\n",
       "      <th></th>\n",
       "      <th>delivery_id</th>\n",
       "      <th>prediction</th>\n",
       "    </tr>\n",
       "  </thead>\n",
       "  <tbody>\n",
       "    <tr>\n",
       "      <th>0</th>\n",
       "      <td>194096</td>\n",
       "      <td>2710.882812</td>\n",
       "    </tr>\n",
       "    <tr>\n",
       "      <th>1</th>\n",
       "      <td>236895</td>\n",
       "      <td>2802.008545</td>\n",
       "    </tr>\n",
       "    <tr>\n",
       "      <th>2</th>\n",
       "      <td>190868</td>\n",
       "      <td>2689.011475</td>\n",
       "    </tr>\n",
       "    <tr>\n",
       "      <th>3</th>\n",
       "      <td>183076</td>\n",
       "      <td>2594.957764</td>\n",
       "    </tr>\n",
       "    <tr>\n",
       "      <th>4</th>\n",
       "      <td>186200</td>\n",
       "      <td>3545.247314</td>\n",
       "    </tr>\n",
       "  </tbody>\n",
       "</table>\n",
       "</div>"
      ],
      "text/plain": [
       "   delivery_id   prediction\n",
       "0       194096  2710.882812\n",
       "1       236895  2802.008545\n",
       "2       190868  2689.011475\n",
       "3       183076  2594.957764\n",
       "4       186200  3545.247314"
      ]
     },
     "execution_count": 47,
     "metadata": {},
     "output_type": "execute_result"
    }
   ],
   "source": [
    "final_result = data[['delivery_id', 'prediction']]\n",
    "final_result.head()"
   ]
  },
  {
   "cell_type": "code",
   "execution_count": 53,
   "metadata": {},
   "outputs": [],
   "source": [
    "final_result.to_csv(r'result/data_to_predict.csv', index = False)"
   ]
  },
  {
   "cell_type": "code",
   "execution_count": null,
   "metadata": {},
   "outputs": [],
   "source": []
  }
 ],
 "metadata": {
  "kernelspec": {
   "display_name": "Python 3",
   "language": "python",
   "name": "python3"
  },
  "language_info": {
   "codemirror_mode": {
    "name": "ipython",
    "version": 3
   },
   "file_extension": ".py",
   "mimetype": "text/x-python",
   "name": "python",
   "nbconvert_exporter": "python",
   "pygments_lexer": "ipython3",
   "version": "3.7.8"
  }
 },
 "nbformat": 4,
 "nbformat_minor": 4
}
